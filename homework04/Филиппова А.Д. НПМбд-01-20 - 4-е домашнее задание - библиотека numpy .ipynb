{
 "cells": [
  {
   "cell_type": "markdown",
   "metadata": {},
   "source": [
    "## 4-е домашнее задание - Библиотека numpy\n",
    "# Филиппова А.Д. НПМбд-01-20\n",
    "Подпишите этот блокнот: укажите ФИО и номер группы. Выполненное задание загрузите в свой репозиторий «<b>Spring2023Python</b>» в github в папку \"<b>homework04</b>\".  \n",
    "\n",
    "Перед выполнением этого домашнего задания полезно прочитать про возможности и основные методы библиотеки numpy:  \n",
    "http://acm.mipt.ru/twiki/bin/view/Cintro/PythonNumpy  \n"
   ]
  },
  {
   "cell_type": "markdown",
   "metadata": {},
   "source": [
    "1.\tСоздайте равномерное разбиение интервала от -1.3 до 2.5 на 64 отрезка."
   ]
  },
  {
   "cell_type": "code",
   "execution_count": 30,
   "metadata": {},
   "outputs": [
    {
     "data": {
      "text/plain": [
       "array([-1.3     , -1.240625, -1.18125 , -1.121875, -1.0625  , -1.003125,\n",
       "       -0.94375 , -0.884375, -0.825   , -0.765625, -0.70625 , -0.646875,\n",
       "       -0.5875  , -0.528125, -0.46875 , -0.409375, -0.35    , -0.290625,\n",
       "       -0.23125 , -0.171875, -0.1125  , -0.053125,  0.00625 ,  0.065625,\n",
       "        0.125   ,  0.184375,  0.24375 ,  0.303125,  0.3625  ,  0.421875,\n",
       "        0.48125 ,  0.540625,  0.6     ,  0.659375,  0.71875 ,  0.778125,\n",
       "        0.8375  ,  0.896875,  0.95625 ,  1.015625,  1.075   ,  1.134375,\n",
       "        1.19375 ,  1.253125,  1.3125  ,  1.371875,  1.43125 ,  1.490625,\n",
       "        1.55    ,  1.609375,  1.66875 ,  1.728125,  1.7875  ,  1.846875,\n",
       "        1.90625 ,  1.965625,  2.025   ,  2.084375,  2.14375 ,  2.203125,\n",
       "        2.2625  ,  2.321875,  2.38125 ,  2.440625,  2.5     ])"
      ]
     },
     "execution_count": 30,
     "metadata": {},
     "output_type": "execute_result"
    }
   ],
   "source": [
    "import numpy as np\n",
    "np.linspace(-1.3, 2.5, 65)"
   ]
  },
  {
   "cell_type": "markdown",
   "metadata": {},
   "source": [
    "2. Сгенерируйте numpy массив длины $3n$, заполненный циклически числами 1, 2, 3, 1, 2, 3, 1....\n"
   ]
  },
  {
   "cell_type": "code",
   "execution_count": 31,
   "metadata": {},
   "outputs": [
    {
     "name": "stdout",
     "output_type": "stream",
     "text": [
      "Введите n:4\n"
     ]
    },
    {
     "data": {
      "text/plain": [
       "array([1, 2, 3, 1, 2, 3, 1, 2, 3, 1, 2, 3])"
      ]
     },
     "execution_count": 31,
     "metadata": {},
     "output_type": "execute_result"
    }
   ],
   "source": [
    "n=int(input(\"Введите n:\"))\n",
    "np.array([1, 2, 3] * n)"
   ]
  },
  {
   "cell_type": "markdown",
   "metadata": {},
   "source": [
    "3.\tСоздайте массив первых 10 нечетных целых чисел."
   ]
  },
  {
   "cell_type": "code",
   "execution_count": 32,
   "metadata": {},
   "outputs": [
    {
     "data": {
      "text/plain": [
       "array([ 1,  3,  5,  7,  9, 11, 13, 15, 17, 19])"
      ]
     },
     "execution_count": 32,
     "metadata": {},
     "output_type": "execute_result"
    }
   ],
   "source": [
    "np.arange(1, 20, 2)"
   ]
  },
  {
   "cell_type": "markdown",
   "metadata": {},
   "source": [
    "4.  Создайте массив нулей размера 10 x 10, а затем создайте в нём \"рамку\" из единиц по краям."
   ]
  },
  {
   "cell_type": "code",
   "execution_count": 33,
   "metadata": {},
   "outputs": [
    {
     "data": {
      "text/plain": [
       "array([[1., 1., 1., 1., 1., 1., 1., 1., 1., 1.],\n",
       "       [1., 0., 0., 0., 0., 0., 0., 0., 0., 1.],\n",
       "       [1., 0., 0., 0., 0., 0., 0., 0., 0., 1.],\n",
       "       [1., 0., 0., 0., 0., 0., 0., 0., 0., 1.],\n",
       "       [1., 0., 0., 0., 0., 0., 0., 0., 0., 1.],\n",
       "       [1., 0., 0., 0., 0., 0., 0., 0., 0., 1.],\n",
       "       [1., 0., 0., 0., 0., 0., 0., 0., 0., 1.],\n",
       "       [1., 0., 0., 0., 0., 0., 0., 0., 0., 1.],\n",
       "       [1., 0., 0., 0., 0., 0., 0., 0., 0., 1.],\n",
       "       [1., 1., 1., 1., 1., 1., 1., 1., 1., 1.]])"
      ]
     },
     "execution_count": 33,
     "metadata": {},
     "output_type": "execute_result"
    }
   ],
   "source": [
    "matrix = np.zeros((10,10))\n",
    "matrix[ : : 9] = 1\n",
    "matrix[ : , [0,9]] = 1\n",
    "matrix"
   ]
  },
  {
   "cell_type": "markdown",
   "metadata": {},
   "source": [
    "5.  Создайте массив 8 x 8 с шахматной доской из нулей и единиц."
   ]
  },
  {
   "cell_type": "code",
   "execution_count": 34,
   "metadata": {},
   "outputs": [
    {
     "data": {
      "text/plain": [
       "array([[1., 0., 1., 0., 1., 0., 1., 0.],\n",
       "       [0., 1., 0., 1., 0., 1., 0., 1.],\n",
       "       [1., 0., 1., 0., 1., 0., 1., 0.],\n",
       "       [0., 1., 0., 1., 0., 1., 0., 1.],\n",
       "       [1., 0., 1., 0., 1., 0., 1., 0.],\n",
       "       [0., 1., 0., 1., 0., 1., 0., 1.],\n",
       "       [1., 0., 1., 0., 1., 0., 1., 0.],\n",
       "       [0., 1., 0., 1., 0., 1., 0., 1.]])"
      ]
     },
     "execution_count": 34,
     "metadata": {},
     "output_type": "execute_result"
    }
   ],
   "source": [
    "matrix = np.zeros((8,8))\n",
    "matrix[::2, ::2] = 1\n",
    "matrix[1::2, 1::2] = 1\n",
    "matrix"
   ]
  },
  {
   "cell_type": "markdown",
   "metadata": {},
   "source": [
    "6.  Создайте функцию, которая создает $n×n$ матрицу с $(i,j)$-элементом, равным $i+j$."
   ]
  },
  {
   "cell_type": "code",
   "execution_count": 36,
   "metadata": {},
   "outputs": [
    {
     "name": "stdout",
     "output_type": "stream",
     "text": [
      "Введите n:8\n"
     ]
    },
    {
     "data": {
      "text/plain": [
       "array([[ 0.,  1.,  2.,  3.,  4.,  5.,  6.,  7.],\n",
       "       [ 1.,  2.,  3.,  4.,  5.,  6.,  7.,  8.],\n",
       "       [ 2.,  3.,  4.,  5.,  6.,  7.,  8.,  9.],\n",
       "       [ 3.,  4.,  5.,  6.,  7.,  8.,  9., 10.],\n",
       "       [ 4.,  5.,  6.,  7.,  8.,  9., 10., 11.],\n",
       "       [ 5.,  6.,  7.,  8.,  9., 10., 11., 12.],\n",
       "       [ 6.,  7.,  8.,  9., 10., 11., 12., 13.],\n",
       "       [ 7.,  8.,  9., 10., 11., 12., 13., 14.]])"
      ]
     },
     "execution_count": 36,
     "metadata": {},
     "output_type": "execute_result"
    }
   ],
   "source": [
    "def matrix_create(n):\n",
    "    matrix1 = np.ones((n, n)) * np.linspace(0, n - 1, n)\n",
    "    matrix2 = matrix1.T\n",
    "    return matrix1 + matrix2\n",
    "n=int(input(\"Введите n:\"))\n",
    "matrix_create(n)"
   ]
  },
  {
   "cell_type": "markdown",
   "metadata": {},
   "source": [
    "7. Примените функцию dot для перемножения вектор на вектор, матрицу на вектор и матрицу на матрицу."
   ]
  },
  {
   "cell_type": "code",
   "execution_count": 40,
   "metadata": {},
   "outputs": [
    {
     "name": "stdout",
     "output_type": "stream",
     "text": [
      "Умножение вектора на вектор = [[116]]\n",
      "Умножение матрицы на вектор =\n",
      " [[ 86]\n",
      " [133]\n",
      " [130]\n",
      " [116]\n",
      " [ 90]\n",
      " [ 69]]\n",
      "Умножение матрицы на матрицу =\n",
      " [[123  41  86 142 153 183]\n",
      " [136  76 114 132 157 197]\n",
      " [ 77  67  95 110 101 142]\n",
      " [114  68 104 121 144 174]\n",
      " [ 79  59  67  69 104 128]\n",
      " [ 69  36  51  88  81 105]]\n"
     ]
    }
   ],
   "source": [
    "vector1 = np.random.randint(10, size=(1, 6))\n",
    "vector2 = vector1.T\n",
    "matrix = np.random.randint(10, size=(6, 6))\n",
    "print(\"Умножение вектора на вектор =\", np.dot(vector1, vector2))   \n",
    "print(\"Умножение матрицы на вектор =\\n\", np.dot(matrix, vector2))   \n",
    "print(\"Умножение матрицы на матрицу =\\n\",np.dot(matrix, matrix))   "
   ]
  },
  {
   "cell_type": "markdown",
   "metadata": {},
   "source": [
    "8. Вычислите cos(x) и sin(x) на интервале [0,1] с шагом $0.05$, а затем объедините оба массива чисел как строки в один массив."
   ]
  },
  {
   "cell_type": "code",
   "execution_count": 44,
   "metadata": {},
   "outputs": [
    {
     "name": "stdout",
     "output_type": "stream",
     "text": [
      "cos =\n",
      " [1.         0.99875026 0.99500417 0.98877108 0.98006658 0.96891242\n",
      " 0.95533649 0.93937271 0.92106099 0.9004471  0.87758256 0.85252452\n",
      " 0.82533561 0.7960838  0.76484219 0.73168887 0.69670671 0.65998315\n",
      " 0.62160997 0.58168309 0.54030231]\n",
      "sin =\n",
      " [0.         0.04997917 0.09983342 0.14943813 0.19866933 0.24740396\n",
      " 0.29552021 0.34289781 0.38941834 0.43496553 0.47942554 0.52268723\n",
      " 0.56464247 0.60518641 0.64421769 0.68163876 0.71735609 0.75128041\n",
      " 0.78332691 0.8134155  0.84147098]\n",
      "[1.         0.99875026 0.99500417 0.98877108 0.98006658 0.96891242\n",
      " 0.95533649 0.93937271 0.92106099 0.9004471  0.87758256 0.85252452\n",
      " 0.82533561 0.7960838  0.76484219 0.73168887 0.69670671 0.65998315\n",
      " 0.62160997 0.58168309 0.54030231 0.         0.04997917 0.09983342\n",
      " 0.14943813 0.19866933 0.24740396 0.29552021 0.34289781 0.38941834\n",
      " 0.43496553 0.47942554 0.52268723 0.56464247 0.60518641 0.64421769\n",
      " 0.68163876 0.71735609 0.75128041 0.78332691 0.8134155  0.84147098]\n"
     ]
    }
   ],
   "source": [
    "cos = np.cos(np.arange(0, 1.001, 0.05))\n",
    "print(\"cos =\\n\", cos)\n",
    "sin = np.sin(np.arange(0, 1.001, 0.05))\n",
    "print(\"sin =\\n\", sin)\n",
    "print(np.hstack((cos,sin)))"
   ]
  },
  {
   "cell_type": "markdown",
   "metadata": {},
   "source": [
    "9. Создайте матрицу $A$ размера $3×5$ из случайных чисел с равномерным распределением на отрезке $[-1,3]$ (используйте np.random.rand)"
   ]
  },
  {
   "cell_type": "code",
   "execution_count": 54,
   "metadata": {},
   "outputs": [
    {
     "data": {
      "text/plain": [
       "array([[ 0.35390248,  2.4261762 ,  2.35125867,  2.60536786,  2.39819669],\n",
       "       [ 0.33198602,  0.29128397,  0.90737338,  0.01593054,  1.68443347],\n",
       "       [ 0.21143699, -0.76470825,  0.03910394,  1.98553433,  2.93218359]])"
      ]
     },
     "execution_count": 54,
     "metadata": {},
     "output_type": "execute_result"
    }
   ],
   "source": [
    "A = np.random.rand(3, 5) * 4 - 1\n",
    "A"
   ]
  },
  {
   "cell_type": "markdown",
   "metadata": {},
   "source": [
    "10. Найдите сумму всех элементов, сумму внутри строк, сумму внутри столбцов, а также среднее значение, дисперсию и стандартное отклонение чисел для каждой строки матрицы $A$. (Подобно тому, как sorted имеет необязательный аргумент key=, многие функции Numpy имеют необязательный аргумент axis=)\n"
   ]
  },
  {
   "cell_type": "code",
   "execution_count": 55,
   "metadata": {},
   "outputs": [
    {
     "name": "stdout",
     "output_type": "stream",
     "text": [
      "Сумма по всем элементам 17.76945987090524\n",
      "Сумма по строкам [10.13490189  3.23100738  4.4035506 ]\n",
      "Сумма по столбцам [0.89732549 1.95275191 3.29773599 4.60683273 7.01481376]\n",
      "Среднее значение [2.02698038 0.64620148 0.88071012]\n",
      "Дисперсия [0.7072074  0.35361514 1.85856181]\n",
      "Стандартное отклонение [0.84095624 0.59465548 1.3632908 ]\n"
     ]
    }
   ],
   "source": [
    "sum_all = A.sum()\n",
    "print(\"Сумма по всем элементам\", sum_all)\n",
    "sum_string = A.sum(1) \n",
    "print(\"Сумма по строкам\", sum_string)\n",
    "sum_colomn = A.sum(0) \n",
    "print(\"Сумма по столбцам\", sum_colomn)\n",
    "mean = A.mean(1)\n",
    "print(\"Среднее значение\", mean)\n",
    "dispers = A.var(1)\n",
    "print(\"Дисперсия\", dispers)\n",
    "stand_dev = A.std(1)\n",
    "print(\"Стандартное отклонение\", stand_dev)"
   ]
  },
  {
   "cell_type": "markdown",
   "metadata": {},
   "source": [
    "11.  Отнимите от каждого элемента матрицы $A$ среднее по строке и поделите на стандартное отклонение строки."
   ]
  },
  {
   "cell_type": "code",
   "execution_count": 56,
   "metadata": {},
   "outputs": [
    {
     "data": {
      "text/plain": [
       "array([[-1.9894946 ,  0.47469273,  0.38560662,  0.68777357,  0.44142168],\n",
       "       [-0.52839916, -0.5968456 ,  0.43919868, -1.05989259,  1.74593867],\n",
       "       [-0.4909247 , -1.206946  , -0.61733431,  0.81040979,  1.50479521]])"
      ]
     },
     "execution_count": 56,
     "metadata": {},
     "output_type": "execute_result"
    }
   ],
   "source": [
    "A = ((A.T - mean) / stand_dev).T\n",
    "A"
   ]
  },
  {
   "cell_type": "markdown",
   "metadata": {},
   "source": [
    "12. Отсортируйте матрицу $A$ по 3-ому столбцу, т.е. поменяйте местами строки матрицы так, чтобы 3-й столбец оказался отсортированным. Используйте для этого slicing + argsort + indexing."
   ]
  },
  {
   "cell_type": "code",
   "execution_count": 57,
   "metadata": {},
   "outputs": [
    {
     "name": "stdout",
     "output_type": "stream",
     "text": [
      "Отсортированная по 3-ему столбцу А\n",
      " [[-0.4909247  -1.206946   -0.61733431  0.81040979  1.50479521]\n",
      " [-1.9894946   0.47469273  0.38560662  0.68777357  0.44142168]\n",
      " [-0.52839916 -0.5968456   0.43919868 -1.05989259  1.74593867]]\n"
     ]
    }
   ],
   "source": [
    "third_colomn = A[:: , 2]\n",
    "index_sort = np.argsort(third_colomn)\n",
    "A = A[index_sort]\n",
    "print(\"Отсортированная по 3-ему столбцу А\\n\", A)"
   ]
  },
  {
   "cell_type": "markdown",
   "metadata": {},
   "source": [
    "13. Посчитайте две матрицы: $B = A^TA$ и $C = AA^T$. Что вы можете о них сказать? Какого они размера? В чём их сходство и отличие?"
   ]
  },
  {
   "cell_type": "code",
   "execution_count": 60,
   "metadata": {},
   "outputs": [
    {
     "name": "stdout",
     "output_type": "stream",
     "text": [
      "AT=\n",
      " [[-0.4909247  -1.9894946  -0.52839916]\n",
      " [-1.206946    0.47469273 -0.5968456 ]\n",
      " [-0.61733431  0.38560662  0.43919868]\n",
      " [ 0.81040979  0.68777357 -1.05989259]\n",
      " [ 1.50479521  0.44142168  1.74593867]]\n",
      "B=\n",
      " [[ 4.4783015  -0.03650632 -0.69616984 -1.20612563 -2.53949972]\n",
      " [-0.03650632  2.0382765   0.66600002 -0.0190475  -2.64872271]\n",
      " [-0.69616984  0.66600002  0.72268959 -0.70058716  0.00806738]\n",
      " [-1.20612563 -0.0190475  -0.70058716  2.25316883 -0.32740854]\n",
      " [-2.53949972 -2.64872271  0.00806738 -0.32740854  5.50756358]]\n",
      "C=\n",
      " [[5.         1.38734301 2.47696502]\n",
      " [1.38734301 5.         0.97901599]\n",
      " [2.47696502 0.97901599 5.        ]]\n"
     ]
    }
   ],
   "source": [
    "Trans_A = A.T\n",
    "print(\"AT=\\n\", Trans_A)\n",
    "B = np.dot(Trans_A, A)\n",
    "print(\"B=\\n\", B)\n",
    "С = np.dot(A, Trans_A)\n",
    "print(\"C=\\n\", С)"
   ]
  },
  {
   "cell_type": "markdown",
   "metadata": {},
   "source": [
    "### Матрица B размером 5 на 5, матрица С размером 3 на 3.  Отличие этих матриц в значениях, которые в них хранятся, а также в количестве значений (в В 25 , в С 9), сходство в типе данных (float) , который они хранят."
   ]
  },
  {
   "cell_type": "markdown",
   "metadata": {},
   "source": [
    "14. Найдите сумму диагональных элементов матриц $B$ и $C$."
   ]
  },
  {
   "cell_type": "code",
   "execution_count": 62,
   "metadata": {},
   "outputs": [
    {
     "name": "stdout",
     "output_type": "stream",
     "text": [
      "Сумма диагональных элементов B и C = 30.0\n"
     ]
    }
   ],
   "source": [
    "sum_diagB = np.trace(B)\n",
    "sum_diagC = np.trace(С)\n",
    "sum_all = sum_diagB + sum_diagC\n",
    "print(\"Сумма диагональных элементов B и C =\", sum_all)"
   ]
  },
  {
   "cell_type": "markdown",
   "metadata": {},
   "source": [
    "15.\tПосчитайте детерминант и ранг матриц $A$, $B$ и $C$, посмотрите на спектр (набор собственных значений) матриц $B$ и $C$, какие выводы вы можете сделать?  \n",
    "(подсказка: используйте готовые функции из библиотеки np.linalg). \n"
   ]
  },
  {
   "cell_type": "code",
   "execution_count": 270,
   "metadata": {},
   "outputs": [
    {
     "name": "stdout",
     "output_type": "stream",
     "text": [
      "Не можем посчитать, так как матрица А не является квадратной матрицей\n",
      "Определитель B -2.447556542865467e-31\n",
      "Определитель C 39.78922098932378\n",
      "Ранг A 3\n",
      "Ранг B 3\n",
      "Ранг С 3\n",
      "Спектр B [ 1.02705801e+01  3.67534197e+00  1.05407790e+00 -3.18464207e-16\n",
      " -1.00093058e-15]\n",
      "Спектр C [10.27058013  1.0540779   3.67534197]\n"
     ]
    }
   ],
   "source": [
    "#detA =np.linalg.det(A) \n",
    "print(\"Не можем посчитать, так как матрица А не является квадратной матрицей\")\n",
    "#print(\"Определитель A\", detA)\n",
    "detB = np.linalg.det(B) \n",
    "print(\"Определитель B\", detB)\n",
    "detC =np.linalg.det(С) \n",
    "print(\"Определитель C\", detC)\n",
    "rangA = np.linalg.matrix_rank(A)\n",
    "print(\"Ранг A\", rangA)\n",
    "rangB = np.linalg.matrix_rank(B)\n",
    "print(\"Ранг B\", rangB)\n",
    "rangС = np.linalg.matrix_rank(С)\n",
    "print(\"Ранг С\", rangС)\n",
    "spektrB = np.linalg.eigvals(B)\n",
    "print(\"Спектр B\", spektrB)\n",
    "spektrC = np.linalg.eigvals(С)\n",
    "print(\"Спектр C\", spektrC)\n"
   ]
  },
  {
   "cell_type": "markdown",
   "metadata": {},
   "source": [
    "### У матриц A, B и С одинаковый ранг, а длины спектров соотносятся с размерностями матриц."
   ]
  },
  {
   "cell_type": "markdown",
   "metadata": {},
   "source": [
    "16. Численно посчитать определённый интеграл  3-мя методами:  \n",
    "a)\tПрямоугольников $\\int\\limits_a^b {f(x)dx \\approx \\Delta x\\sum\\limits_{k = 0}^N {f({x_k})} }$  \n",
    "b)\tТрапеций $\\int\\limits_a^b {f(x)dx \\approx \\frac{{\\Delta x}}{2}\\left( {f({x_0}) + 2\\sum\\limits_{k = 1}^{N - 1} {f({x_k})}  + f({x_N})} \\right)}$  \n",
    "c)\tПо правилу Симпсона  $\\int\\limits_a^b {f(x)dx \\approx \\frac{{\\Delta x}}{3}\\left( {f({x_0}) + 2\\sum\\limits_{k = 1}^{N/2 - 1} {f({x_{2k}})}  + 4\\sum\\limits_{k = 1}^{N/2} {f({x_{2k - 1}})}  + f({x_N})} \\right)}$  \n",
    "\n",
    "\n",
    "В реализации этих методов цикл for для суммирования использовать нельзя.  \n",
    "Нужно посчитать значение интеграла с некоторым шагом интегрирования (например начать с 0.1), потом уменьшить его в десять раз и ещё раз посчитать и так до тех пор пока отличие в ответах будет в 5-м знаке после запятой, т.е. чтобы ошибка была меньше 1e-5. Получить ответы для 3-х разных методов и сделать соответствующие выводы.  \n",
    "\n",
    "Далее необходимо сравнить полученные оценки с аналитическим решением (т.е. формульным, которое вы должны сами посчитать на листочке и вбить формулу-ответ).   \n",
    "\n",
    "В качестве интеграла взять два из следующих примеров:  \n",
    "- один с номером, сгенерированным случайным образом с помощью функции np.random.randint(9), в качестве seed для генератора случайных чисел взять номер своего студенческого билета. \n",
    "- второй номер - под номером 9, несобственный интерграл. Подумайте, как сделать подбор шага интегрирования адаптивным.\n",
    "\n",
    "<table width=\"80%\"\n",
    "       align=\"center\">\n",
    "    <tr>\n",
    "        <td> 0) $\\int\\limits_3^4 {\\frac{{{x^2} + 3}}{{x - 2}}dx}$ </td>\n",
    "        <td> 1) $\\int\\limits_{ - 2}^{ - 1} {\\frac{{x + 1}}{{{x^3} - {x^2}}}dx}$ </td>\n",
    "        <td> 2) $\\int\\limits_1^2 {\\frac{{{e^{1/{x^2}}}}}{{{x^3}}}dx}$ </td>\n",
    "        <td> 3) $\\int\\limits_1^e {\\frac{{\\cos (\\ln x)}}{x}dx}$ </td>\n",
    "        <td> 4) $\\int\\limits_1^e {\\frac{{dx}}{{x(1 + {{\\ln }^2}x)}}}$ </td>\n",
    "    </tr>                \n",
    "    <tr>\n",
    "        <td> 5) $\\int\\limits_0^{\\pi /2} {{{\\cos }^3}\\alpha \\;d\\alpha }$ </td>\n",
    "        <td> 6) $\\int\\limits_0^{1/3} {c{h^2}3x\\;dx}$ </td>\n",
    "        <td> 7) $\\int\\limits_2^3 {\\frac{{dy}}{{{y^2} - 2y - 8}}dy}$ </td>\n",
    "        <td> 8) $\\int\\limits_0^2 {\\frac{{2x - 1}}{{2x + 1}}dx}$ </td>\n",
    "        <td> 9) $\\int\\limits_{3/4}^2 {\\frac{{dx}}{{\\sqrt {2 + 3x - 2{x^2}} }}}$ </td>\n",
    "        </tr>\n",
    "</table>"
   ]
  },
  {
   "cell_type": "code",
   "execution_count": 271,
   "metadata": {},
   "outputs": [
    {
     "data": {
      "text/plain": [
       "array([4])"
      ]
     },
     "execution_count": 271,
     "metadata": {},
     "output_type": "execute_result"
    }
   ],
   "source": [
    "np.random.seed(1032201729)\n",
    "np.random.randint(0,8, size=1)"
   ]
  },
  {
   "cell_type": "code",
   "execution_count": 69,
   "metadata": {},
   "outputs": [],
   "source": [
    "right_answer_4 = 0.785398\n",
    "right_answer_9 = 1.11072073454"
   ]
  },
  {
   "cell_type": "code",
   "execution_count": 70,
   "metadata": {},
   "outputs": [
    {
     "name": "stdout",
     "output_type": "stream",
     "text": [
      "Аналитическое решение для 4-ого интеграла =  0.785398\n",
      "Аналитическое решение для 9-ого интеграла =  1.11072073454\n"
     ]
    }
   ],
   "source": [
    "print(\"Аналитическое решение для 4-ого интеграла = \" , right_answer_4)\n",
    "print(\"Аналитическое решение для 9-ого интеграла = \" , right_answer_9)"
   ]
  },
  {
   "cell_type": "code",
   "execution_count": 73,
   "metadata": {},
   "outputs": [
    {
     "name": "stdout",
     "output_type": "stream",
     "text": [
      "Численное решение для интеграла 4 методом прямоугольников = 0.785405586172153, количество итерации = 5\n",
      "Численное решение для интеграла 4 методом трапеции = 0.7854015066868394, количество итерации = 4\n",
      "Численное решение для интеграла 4 методом Симпсона = 0.7853953744576965, количество итерации = 4\n"
     ]
    }
   ],
   "source": [
    "def f(x):\n",
    "    return 1 / (x * (1 + (np.log(x)) ** 2))\n",
    "variant = 4\n",
    "eps = 0.00001\n",
    "right_answer = 0.785398\n",
    "lower_bound = 1\n",
    "upper_bound = np.e\n",
    "print(get_rectangle_answer())\n",
    "print(get_trapezoidal_answer())\n",
    "print(get_simpson_answer())"
   ]
  },
  {
   "cell_type": "code",
   "execution_count": 74,
   "metadata": {},
   "outputs": [
    {
     "name": "stdout",
     "output_type": "stream",
     "text": [
      "Численное решение для интеграла 9 методом прямоугольников = 1.1100679479383213, количество итерации = 6\n",
      "Численное решение для интеграла 9 методом трапеции = 1.1098440542343122, количество итерации = 6\n",
      "Численное решение для интеграла 9 методом Симпсона = 1.110400436291967, количество итерации = 7\n"
     ]
    }
   ],
   "source": [
    "def f(x):\n",
    "    return 1 / ((2 + 3 * x - 2 * (x ** 2)) ** (1 / 2))\n",
    "variant = 9\n",
    "eps = 0.001\n",
    "right_answer = 1.11072073454\n",
    "lower_bound = 3/4\n",
    "upper_bound = 2\n",
    "print(get_rectangle_answer())\n",
    "print(get_trapezoidal_answer())\n",
    "print(get_simpson_answer())"
   ]
  },
  {
   "cell_type": "code",
   "execution_count": 71,
   "metadata": {},
   "outputs": [],
   "source": [
    "def rectangle_method(delta_x, x):\n",
    "    return delta_x * np.sum(f(x))\n",
    "def trapezoidal_method(delta_x, x):\n",
    "    return delta_x / 2 * ((f(x[0]) + 2 * np.sum(f(x[1:-1])) + f(x[-1]))) \n",
    "def simpson_method(delta_x, x):\n",
    "    return delta_x / 3 * ((f(x[0]) + 2 * np.sum(f(x[2:-1:2])) + 4 * np.sum(f(x[1:-1:2])) + f(x[-1]))) "
   ]
  },
  {
   "cell_type": "code",
   "execution_count": 72,
   "metadata": {},
   "outputs": [],
   "source": [
    "def get_rectangle_answer():\n",
    "    step = 1\n",
    "    result_rectangle_method = 10\n",
    "    N = 0\n",
    "    while abs(right_answer - result_rectangle_method) > eps:\n",
    "        step /= 10\n",
    "        array_x = np.arange(lower_bound, upper_bound, step)\n",
    "        if variant != 9:\n",
    "            array_x = np.append(array_x, upper_bound)\n",
    "        result_rectangle_method = rectangle_method(step, array_x)\n",
    "        N += 1\n",
    "    return \"Численное решение для интеграла \" + str(variant) + \" методом прямоугольников = \" + str(result_rectangle_method) + \", количество итерации = \" + str(N)\n",
    "\n",
    "def get_trapezoidal_answer():\n",
    "    step = 1\n",
    "    result_trapezoidal_method = 10\n",
    "    N = 0\n",
    "    while abs(right_answer - result_trapezoidal_method) > eps:\n",
    "        step /= 10\n",
    "        array_x = np.arange(lower_bound, upper_bound, step)\n",
    "        if variant != 9:\n",
    "            array_x = np.append(array_x, upper_bound)\n",
    "        result_trapezoidal_method = trapezoidal_method(step, array_x)\n",
    "        N += 1\n",
    "    return \"Численное решение для интеграла \" + str(variant) + \" методом трапеции = \" + str(result_trapezoidal_method) + \", количество итерации = \" + str(N)\n",
    "\n",
    "def get_simpson_answer():\n",
    "    step = 1\n",
    "    result_simpson_method = 10\n",
    "    N = 0\n",
    "    while abs(right_answer - result_simpson_method) > eps:\n",
    "        step /= 10\n",
    "        array_x = np.arange(lower_bound, upper_bound, step)\n",
    "        if variant != 9:\n",
    "            array_x = np.append(array_x, upper_bound)\n",
    "        result_simpson_method = simpson_method(step, array_x)\n",
    "        N += 1\n",
    "    return \"Численное решение для интеграла \" + str(variant) + \" методом Симпсона = \" + str(result_simpson_method) + \", количество итерации = \" + str(N)"
   ]
  },
  {
   "cell_type": "markdown",
   "metadata": {},
   "source": [
    "### При увеличении числа шагов разница между аналитическим и численным решением уменьшается, то есть повышается точность\n"
   ]
  }
 ],
 "metadata": {
  "kernelspec": {
   "display_name": "Python 3 (ipykernel)",
   "language": "python",
   "name": "python3"
  },
  "language_info": {
   "codemirror_mode": {
    "name": "ipython",
    "version": 3
   },
   "file_extension": ".py",
   "mimetype": "text/x-python",
   "name": "python",
   "nbconvert_exporter": "python",
   "pygments_lexer": "ipython3",
   "version": "3.9.12"
  }
 },
 "nbformat": 4,
 "nbformat_minor": 2
}
